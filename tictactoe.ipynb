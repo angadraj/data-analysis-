{
 "cells": [
  {
   "cell_type": "code",
   "execution_count": 2,
   "metadata": {},
   "outputs": [],
   "source": [
    "from IPython.display import clear_output\n",
    "def disp_board(board):\n",
    "    clear_output()\n",
    "    print(board[7]+ '|' +board[8]+ '|' +board[9])\n",
    "    print('-----')\n",
    "    print(board[4]+ '|' +board[5]+ '|' +board[6])\n",
    "    print('-----')\n",
    "    print(board[1]+ '|' +board[2]+ '|' +board[3])"
   ]
  },
  {
   "cell_type": "code",
   "execution_count": 3,
   "metadata": {},
   "outputs": [
    {
     "name": "stdout",
     "output_type": "stream",
     "text": [
      " | | \n",
      "-----\n",
      " | | \n",
      "-----\n",
      " | | \n"
     ]
    }
   ],
   "source": [
    "gameboard=[' ']*10\n",
    "disp_board(gameboard)"
   ]
  },
  {
   "cell_type": "code",
   "execution_count": 4,
   "metadata": {},
   "outputs": [
    {
     "data": {
      "text/plain": [
       "[' ', ' ', ' ', ' ', ' ', ' ', ' ', ' ', ' ', ' ']"
      ]
     },
     "execution_count": 4,
     "metadata": {},
     "output_type": "execute_result"
    }
   ],
   "source": [
    "gameboard"
   ]
  },
  {
   "cell_type": "code",
   "execution_count": 5,
   "metadata": {},
   "outputs": [],
   "source": [
    "def player_input():\n",
    "        marker=' '\n",
    "        while marker!='o'and marker!='x':\n",
    "            marker=input('player1, choose x or o: ')\n",
    "        player1_marker=marker    \n",
    "            \n",
    "        if player1_marker=='o':\n",
    "            player2_marker='x'\n",
    "        else:\n",
    "            player2_marker='o'\n",
    "        \n",
    "        return (player1_marker,player2_marker)\n",
    "            "
   ]
  },
  {
   "cell_type": "code",
   "execution_count": 6,
   "metadata": {},
   "outputs": [
    {
     "name": "stdout",
     "output_type": "stream",
     "text": [
      "player1, choose x or o: o\n"
     ]
    },
    {
     "data": {
      "text/plain": [
       "('o', 'x')"
      ]
     },
     "execution_count": 6,
     "metadata": {},
     "output_type": "execute_result"
    }
   ],
   "source": [
    "player_input()"
   ]
  },
  {
   "cell_type": "code",
   "execution_count": 8,
   "metadata": {},
   "outputs": [],
   "source": [
    "from IPython.display import clear_output\n",
    "def place_marker(marker,board,position):\n",
    "    clear_output()\n",
    "    board[position]=marker\n",
    "   "
   ]
  },
  {
   "cell_type": "code",
   "execution_count": 9,
   "metadata": {},
   "outputs": [
    {
     "name": "stdout",
     "output_type": "stream",
     "text": [
      "o| | \n",
      "-----\n",
      " | | \n",
      "-----\n",
      " | | \n"
     ]
    }
   ],
   "source": [
    "place_marker('o',gameboard,7)\n",
    "disp_board(gameboard)"
   ]
  },
  {
   "cell_type": "code",
   "execution_count": 10,
   "metadata": {},
   "outputs": [],
   "source": [
    "def win_check(board,pin):\n",
    "    #all rows to check\n",
    "    return((board[7]==pin and board[8]==pin and board[9]==pin) or\n",
    "    (board[4]==pin and board[5]==pin and board[6]==pin) or\n",
    "    (board[1]==pin and board[2]==pin and board[3]==pin) or\n",
    "     #all cols      \n",
    "    (board[7]==board[4]==board[1]==pin) or\n",
    "    (board[8]==board[5]==board[2]==pin) or\n",
    "    (board[9]==board[6]==board[3]==pin) or\n",
    "     # 2 diagonals      \n",
    "    (board[1]==board[5]==board[9]==pin) or\n",
    "    (board[7]==board[5]==board[3]==pin)) "
   ]
  },
  {
   "cell_type": "code",
   "execution_count": 11,
   "metadata": {},
   "outputs": [
    {
     "name": "stdout",
     "output_type": "stream",
     "text": [
      "o| | \n",
      "-----\n",
      " | | \n",
      "-----\n",
      " | | \n"
     ]
    },
    {
     "data": {
      "text/plain": [
       "False"
      ]
     },
     "execution_count": 11,
     "metadata": {},
     "output_type": "execute_result"
    }
   ],
   "source": [
    "disp_board(gameboard)\n",
    "win_check(gameboard,'o')"
   ]
  },
  {
   "cell_type": "code",
   "execution_count": 12,
   "metadata": {},
   "outputs": [],
   "source": [
    "import random\n",
    "def choose_first():\n",
    "    toss=input('enter the choice 0 or 1: ')\n",
    "    toss=random.randint(0,1)\n",
    "    print('toss result is {}'.format(toss))\n",
    "    if toss==0:\n",
    "        return 'player1'\n",
    "    else:\n",
    "        return 'player2'"
   ]
  },
  {
   "cell_type": "code",
   "execution_count": 13,
   "metadata": {
    "scrolled": true
   },
   "outputs": [
    {
     "name": "stdout",
     "output_type": "stream",
     "text": [
      "enter the choice 0 or 1: 1\n",
      "toss result is 1\n"
     ]
    },
    {
     "data": {
      "text/plain": [
       "'player2'"
      ]
     },
     "execution_count": 13,
     "metadata": {},
     "output_type": "execute_result"
    }
   ],
   "source": [
    "choose_first()"
   ]
  },
  {
   "cell_type": "code",
   "execution_count": 14,
   "metadata": {},
   "outputs": [],
   "source": [
    "def space_check(board,position):\n",
    "    return board[position]==' ' "
   ]
  },
  {
   "cell_type": "code",
   "execution_count": 15,
   "metadata": {},
   "outputs": [
    {
     "data": {
      "text/plain": [
       "True"
      ]
     },
     "execution_count": 15,
     "metadata": {},
     "output_type": "execute_result"
    }
   ],
   "source": [
    "space_check(gameboard,1,)"
   ]
  },
  {
   "cell_type": "code",
   "execution_count": 16,
   "metadata": {},
   "outputs": [],
   "source": [
    "def full_board_check(board):\n",
    "    for i in range(1,10):\n",
    "        if space_check(board,i):\n",
    "            return False\n",
    "    return True"
   ]
  },
  {
   "cell_type": "code",
   "execution_count": 17,
   "metadata": {},
   "outputs": [
    {
     "data": {
      "text/plain": [
       "[' ', ' ', ' ', ' ', ' ', ' ', ' ', 'o', ' ', ' ']"
      ]
     },
     "execution_count": 17,
     "metadata": {},
     "output_type": "execute_result"
    }
   ],
   "source": [
    "gameboard"
   ]
  },
  {
   "cell_type": "code",
   "execution_count": 18,
   "metadata": {},
   "outputs": [
    {
     "data": {
      "text/plain": [
       "False"
      ]
     },
     "execution_count": 18,
     "metadata": {},
     "output_type": "execute_result"
    }
   ],
   "source": [
    "full_board_check(gameboard)"
   ]
  },
  {
   "cell_type": "code",
   "execution_count": 19,
   "metadata": {},
   "outputs": [],
   "source": [
    "def player_choice(board):\n",
    "    position=0\n",
    "    while position not in [1,2,3,4,5,6,7,8,9] or not space_check(board,position):\n",
    "        position=int(input('enter the poition from 1-9: '))\n",
    "        \n",
    "    return position"
   ]
  },
  {
   "cell_type": "code",
   "execution_count": 20,
   "metadata": {},
   "outputs": [
    {
     "name": "stdout",
     "output_type": "stream",
     "text": [
      "enter the poition from 1-9: 3\n"
     ]
    },
    {
     "data": {
      "text/plain": [
       "3"
      ]
     },
     "execution_count": 20,
     "metadata": {},
     "output_type": "execute_result"
    }
   ],
   "source": [
    "player_choice(gameboard)\n"
   ]
  },
  {
   "cell_type": "code",
   "execution_count": null,
   "metadata": {},
   "outputs": [],
   "source": [
    "def replay():\n",
    "    choice=input('enter yes or no to play again: ')\n",
    "    return choice"
   ]
  },
  {
   "cell_type": "code",
   "execution_count": null,
   "metadata": {},
   "outputs": [],
   "source": [
    "replay()"
   ]
  },
  {
   "cell_type": "markdown",
   "metadata": {},
   "source": [
    "combined program\n"
   ]
  },
  {
   "cell_type": "code",
   "execution_count": null,
   "metadata": {},
   "outputs": [],
   "source": [
    "# while loop to run the game\n",
    "print('welcome to the game')\n",
    "\n",
    "while True:\n",
    "    #play game\n",
    "    # set everything(board,choice,marker x,o)\n",
    "    the_board=[' ']*10\n",
    "    \n",
    "    player1_marker,player2_marker=player_input()\n",
    "    \n",
    "    turn=choose_first()\n",
    "    print(turn + ' will go first')\n",
    "    \n",
    "    start=input('enter yes or no to start')\n",
    "    if start=='yes':\n",
    "        game_on=True\n",
    "        \n",
    "    else:\n",
    "        game_on=False\n",
    "        \n",
    "    while game_on:\n",
    "        if turn=='player1': \n",
    "            \n",
    "            # show the board\n",
    "            disp_board(the_board)\n",
    "            #choose a position\n",
    "            position=player_choice(the_board)\n",
    "            #place thee marker on the position\n",
    "            place_marker(player1_marker,the_board,position)\n",
    "            # check if they won\n",
    "            if win_check(the_board,player1_marker):\n",
    "                disp_board(the_board)\n",
    "                print('player1 has won')\n",
    "                game_on=False\n",
    "            # check if the tie\n",
    "            else:\n",
    "                if full_board_check(the_board):\n",
    "                    disp_board(the_board)\n",
    "                    print('tie game')\n",
    "                    break\n",
    "                else:\n",
    "                    turn='player2'\n",
    "                \n",
    "          \n",
    "        else:\n",
    "               # show the board\n",
    "            disp_board(the_board)\n",
    "            #choose a position\n",
    "            position=player_choice(the_board)\n",
    "            #place thee marker on the position\n",
    "            place_marker(player2_marker,the_board,position)\n",
    "            # check if they won\n",
    "            if win_check(the_board,player2_marker):\n",
    "                disp_board(the_board)\n",
    "                print('player2 has won')\n",
    "                game_on=False\n",
    "            # check if the tie\n",
    "            else:\n",
    "                if full_board_check(the_board):\n",
    "                    disp_board(the_board)\n",
    "                    print('tie game')\n",
    "                    break\n",
    "                else:\n",
    "                    turn='player1'\n",
    "                    \n",
    "                    \n",
    "    if not replay():\n",
    "        break\n",
    "          # break out of loop to "
   ]
  },
  {
   "cell_type": "code",
   "execution_count": null,
   "metadata": {},
   "outputs": [],
   "source": []
  },
  {
   "cell_type": "code",
   "execution_count": null,
   "metadata": {},
   "outputs": [],
   "source": []
  },
  {
   "cell_type": "code",
   "execution_count": null,
   "metadata": {},
   "outputs": [],
   "source": []
  },
  {
   "cell_type": "code",
   "execution_count": null,
   "metadata": {},
   "outputs": [],
   "source": []
  },
  {
   "cell_type": "code",
   "execution_count": null,
   "metadata": {},
   "outputs": [],
   "source": []
  },
  {
   "cell_type": "code",
   "execution_count": null,
   "metadata": {},
   "outputs": [],
   "source": []
  },
  {
   "cell_type": "code",
   "execution_count": null,
   "metadata": {},
   "outputs": [],
   "source": []
  },
  {
   "cell_type": "code",
   "execution_count": null,
   "metadata": {},
   "outputs": [],
   "source": []
  },
  {
   "cell_type": "code",
   "execution_count": null,
   "metadata": {},
   "outputs": [],
   "source": []
  },
  {
   "cell_type": "code",
   "execution_count": null,
   "metadata": {},
   "outputs": [],
   "source": []
  }
 ],
 "metadata": {
  "kernelspec": {
   "display_name": "Python 3",
   "language": "python",
   "name": "python3"
  },
  "language_info": {
   "codemirror_mode": {
    "name": "ipython",
    "version": 3
   },
   "file_extension": ".py",
   "mimetype": "text/x-python",
   "name": "python",
   "nbconvert_exporter": "python",
   "pygments_lexer": "ipython3",
   "version": "3.7.3"
  }
 },
 "nbformat": 4,
 "nbformat_minor": 2
}
